{
 "cells": [
  {
   "cell_type": "code",
   "execution_count": 1,
   "metadata": {},
   "outputs": [],
   "source": [
    "import pandas as pd"
   ]
  },
  {
   "cell_type": "code",
   "execution_count": 2,
   "metadata": {},
   "outputs": [
    {
     "name": "stderr",
     "output_type": "stream",
     "text": [
      "C:\\Users\\ericf\\Miniconda3\\lib\\site-packages\\IPython\\core\\interactiveshell.py:3044: DtypeWarning: Columns (7,10,11,13,26,27,31) have mixed types. Specify dtype option on import or set low_memory=False.\n",
      "  interactivity=interactivity, compiler=compiler, result=result)\n"
     ]
    }
   ],
   "source": [
    "data = pd.read_csv(\"uiuc-students-by-curriculum.csv\")"
   ]
  },
  {
   "cell_type": "code",
   "execution_count": 3,
   "metadata": {},
   "outputs": [],
   "source": [
    "data['Total'] = data['Total'].str.replace(',', '')\n",
    "data['Total'].fillna(0, inplace = True)\n",
    "data['Total'] = data['Total'].astype(int)"
   ]
  },
  {
   "cell_type": "code",
   "execution_count": 4,
   "metadata": {},
   "outputs": [],
   "source": [
    "totals_data = pd.DataFrame(data.groupby(['Fall'])['Total'].sum())\n",
    "totals_data.rename(columns={totals_data.columns[0]:'Total'}, inplace=True)"
   ]
  },
  {
   "cell_type": "code",
   "execution_count": 5,
   "metadata": {},
   "outputs": [],
   "source": [
    "major_names = data['Major Name'].unique()\n",
    "years = data['Fall'].unique()\n",
    "for major in major_names :\n",
    "    major_total = data[data['Major Name'] == major]\n",
    "    major_total = major_total.groupby(['Fall'])['Total'].sum()\n",
    "    major_total = major_total.reindex(years, fill_value = 0)\n",
    "    major_total = pd.DataFrame(major_total.sort_index())\n",
    "    major_total.rename(columns = {'Total': major}, inplace = True)\n",
    "    totals_data = totals_data.join(major_total)\n"
   ]
  },
  {
   "cell_type": "code",
   "execution_count": 6,
   "metadata": {},
   "outputs": [],
   "source": [
    "totals_data.to_csv(\"totals_data.csv\")"
   ]
  },
  {
   "cell_type": "code",
   "execution_count": null,
   "metadata": {},
   "outputs": [],
   "source": []
  }
 ],
 "metadata": {
  "celltoolbar": "Raw Cell Format",
  "kernelspec": {
   "display_name": "Python 3",
   "language": "python",
   "name": "python3"
  },
  "language_info": {
   "codemirror_mode": {
    "name": "ipython",
    "version": 3
   },
   "file_extension": ".py",
   "mimetype": "text/x-python",
   "name": "python",
   "nbconvert_exporter": "python",
   "pygments_lexer": "ipython3",
   "version": "3.7.1"
  }
 },
 "nbformat": 4,
 "nbformat_minor": 2
}
