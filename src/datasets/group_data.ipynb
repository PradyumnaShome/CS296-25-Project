{
 "cells": [
  {
   "cell_type": "code",
   "execution_count": 1,
   "metadata": {},
   "outputs": [],
   "source": [
    "import pandas as pd\n",
    "data = pd.read_csv('major-change-data.csv')"
   ]
  },
  {
   "cell_type": "code",
   "execution_count": 4,
   "metadata": {},
   "outputs": [],
   "source": [
    "colleges = data['College'].unique()\n",
    "for college in colleges :\n",
    "    major_totals = data[data['College'] == college]\n",
    "    years = data['Fall'].unique()\n",
    "    for year in years :\n",
    "        year_data = major_totals[major_totals['Fall'] == year]\n",
    "        year_data = year_data.groupby(['Major Name'])['Total'].sum()\n",
    "        csv_name = str(year) + '-' + college + '-mp.csv'\n",
    "        year_data = year_data.to_frame()\n",
    "        year_data.to_csv(csv_name)"
   ]
  },
  {
   "cell_type": "code",
   "execution_count": null,
   "metadata": {},
   "outputs": [],
   "source": []
  }
 ],
 "metadata": {
  "kernelspec": {
   "display_name": "Python 3",
   "language": "python",
   "name": "python3"
  },
  "language_info": {
   "codemirror_mode": {
    "name": "ipython",
    "version": 3
   },
   "file_extension": ".py",
   "mimetype": "text/x-python",
   "name": "python",
   "nbconvert_exporter": "python",
   "pygments_lexer": "ipython3",
   "version": "3.7.1"
  }
 },
 "nbformat": 4,
 "nbformat_minor": 2
}
